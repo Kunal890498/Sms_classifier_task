{
 "cells": [
  {
   "cell_type": "markdown",
   "id": "e538c1dd",
   "metadata": {
    "id": "a6-nEE-Swn8C",
    "papermill": {
     "duration": 0.007906,
     "end_time": "2024-06-18T10:59:49.673415",
     "exception": false,
     "start_time": "2024-06-18T10:59:49.665509",
     "status": "completed"
    },
    "tags": []
   },
   "source": [
    "DATA EXPLORATION"
   ]
  },
  {
   "cell_type": "code",
   "execution_count": 2,
   "id": "ba0c81c1",
   "metadata": {
    "execution": {
     "iopub.execute_input": "2024-06-18T10:59:49.690422Z",
     "iopub.status.busy": "2024-06-18T10:59:49.689932Z",
     "iopub.status.idle": "2024-06-18T10:59:52.347568Z",
     "shell.execute_reply": "2024-06-18T10:59:52.346158Z"
    },
    "id": "ByeWSjcXvD9P",
    "papermill": {
     "duration": 2.669721,
     "end_time": "2024-06-18T10:59:52.350735",
     "exception": false,
     "start_time": "2024-06-18T10:59:49.681014",
     "status": "completed"
    },
    "tags": []
   },
   "outputs": [],
   "source": [
    "#IMPORTING CLASSES TO BE USED FOR DATA EXPLORATION\n",
    "import pandas as pd\n",
    "import numpy as np\n",
    "import matplotlib.pyplot as plt\n",
    "import seaborn as sns"
   ]
  },
  {
   "cell_type": "code",
   "execution_count": 3,
   "id": "b1ac9b9d",
   "metadata": {
    "execution": {
     "iopub.execute_input": "2024-06-18T10:59:52.368005Z",
     "iopub.status.busy": "2024-06-18T10:59:52.367434Z",
     "iopub.status.idle": "2024-06-18T10:59:53.590915Z",
     "shell.execute_reply": "2024-06-18T10:59:53.589042Z"
    },
    "id": "yZBqOwG-wsXc",
    "outputId": "4b989166-275e-49db-f00b-e7689a307b0e",
    "papermill": {
     "duration": 1.234747,
     "end_time": "2024-06-18T10:59:53.593282",
     "exception": true,
     "start_time": "2024-06-18T10:59:52.358535",
     "status": "failed"
    },
    "tags": []
   },
   "outputs": [
    {
     "name": "stdout",
     "output_type": "stream",
     "text": [
      "File decoded successfully with utf-8 encoding.\n"
     ]
    }
   ],
   "source": [
    "# Creating data frame\n",
    "# Try decoding the file with different codecs\n",
    "possible_codecs = ['utf-8', 'latin-1', 'cp1252']\n",
    "for codec in possible_codecs:\n",
    "    try:\n",
    "        df = pd.read_csv(\"D:/sms classifier new/sms_spam (1).csv\", encoding=codec)\n",
    "        print(f\"File decoded successfully with {codec} encoding.\")\n",
    "        break\n",
    "    except UnicodeDecodeError:\n",
    "        print(f\"Failed to decode with {codec} encoding.\")\n",
    "\n",
    "# If none of the codecs work, raise an error\n",
    "else:\n",
    "    raise ValueError(\"Unable to decode the file with any of the specified encodings.\")\n",
    "\n",
    "# Now df contains your DataFrame with the data from the CSV file, encoding='utf-8', latin = \"\")"
   ]
  },
  {
   "cell_type": "code",
   "execution_count": 4,
   "id": "efbc4f4a",
   "metadata": {
    "id": "JFQ6LtKtxI0h",
    "outputId": "71c93d66-3278-4079-8cd7-c05818385969",
    "papermill": {
     "duration": null,
     "end_time": null,
     "exception": null,
     "start_time": null,
     "status": "pending"
    },
    "tags": []
   },
   "outputs": [
    {
     "data": {
      "text/html": [
       "<div>\n",
       "<style scoped>\n",
       "    .dataframe tbody tr th:only-of-type {\n",
       "        vertical-align: middle;\n",
       "    }\n",
       "\n",
       "    .dataframe tbody tr th {\n",
       "        vertical-align: top;\n",
       "    }\n",
       "\n",
       "    .dataframe thead th {\n",
       "        text-align: right;\n",
       "    }\n",
       "</style>\n",
       "<table border=\"1\" class=\"dataframe\">\n",
       "  <thead>\n",
       "    <tr style=\"text-align: right;\">\n",
       "      <th></th>\n",
       "      <th>type</th>\n",
       "      <th>text</th>\n",
       "    </tr>\n",
       "  </thead>\n",
       "  <tbody>\n",
       "    <tr>\n",
       "      <th>0</th>\n",
       "      <td>ham</td>\n",
       "      <td>Hope you are having a good week. Just checking in</td>\n",
       "    </tr>\n",
       "    <tr>\n",
       "      <th>1</th>\n",
       "      <td>ham</td>\n",
       "      <td>K..give back my thanks.</td>\n",
       "    </tr>\n",
       "    <tr>\n",
       "      <th>2</th>\n",
       "      <td>ham</td>\n",
       "      <td>Am also doing in cbe only. But have to pay.</td>\n",
       "    </tr>\n",
       "    <tr>\n",
       "      <th>3</th>\n",
       "      <td>spam</td>\n",
       "      <td>complimentary 4 STAR Ibiza Holiday or £10,000 ...</td>\n",
       "    </tr>\n",
       "    <tr>\n",
       "      <th>4</th>\n",
       "      <td>spam</td>\n",
       "      <td>okmail: Dear Dave this is your final notice to...</td>\n",
       "    </tr>\n",
       "    <tr>\n",
       "      <th>5</th>\n",
       "      <td>ham</td>\n",
       "      <td>Aiya we discuss later lar... Pick u up at 4 is...</td>\n",
       "    </tr>\n",
       "    <tr>\n",
       "      <th>6</th>\n",
       "      <td>ham</td>\n",
       "      <td>Are you this much buzy</td>\n",
       "    </tr>\n",
       "    <tr>\n",
       "      <th>7</th>\n",
       "      <td>ham</td>\n",
       "      <td>Please ask mummy to call father</td>\n",
       "    </tr>\n",
       "    <tr>\n",
       "      <th>8</th>\n",
       "      <td>spam</td>\n",
       "      <td>Marvel Mobile Play the official Ultimate Spide...</td>\n",
       "    </tr>\n",
       "    <tr>\n",
       "      <th>9</th>\n",
       "      <td>ham</td>\n",
       "      <td>fyi I'm at usf now, swing by the room whenever</td>\n",
       "    </tr>\n",
       "    <tr>\n",
       "      <th>10</th>\n",
       "      <td>ham</td>\n",
       "      <td>Sure thing big man. i have hockey elections at...</td>\n",
       "    </tr>\n",
       "    <tr>\n",
       "      <th>11</th>\n",
       "      <td>ham</td>\n",
       "      <td>I anything lor...</td>\n",
       "    </tr>\n",
       "  </tbody>\n",
       "</table>\n",
       "</div>"
      ],
      "text/plain": [
       "    type                                               text\n",
       "0    ham  Hope you are having a good week. Just checking in\n",
       "1    ham                            K..give back my thanks.\n",
       "2    ham        Am also doing in cbe only. But have to pay.\n",
       "3   spam  complimentary 4 STAR Ibiza Holiday or £10,000 ...\n",
       "4   spam  okmail: Dear Dave this is your final notice to...\n",
       "5    ham  Aiya we discuss later lar... Pick u up at 4 is...\n",
       "6    ham                             Are you this much buzy\n",
       "7    ham                    Please ask mummy to call father\n",
       "8   spam  Marvel Mobile Play the official Ultimate Spide...\n",
       "9    ham     fyi I'm at usf now, swing by the room whenever\n",
       "10   ham  Sure thing big man. i have hockey elections at...\n",
       "11   ham                                  I anything lor..."
      ]
     },
     "execution_count": 4,
     "metadata": {},
     "output_type": "execute_result"
    }
   ],
   "source": [
    "df.head(12)"
   ]
  },
  {
   "cell_type": "code",
   "execution_count": 5,
   "id": "f27c04a4",
   "metadata": {
    "id": "x5KkoNNcxKXy",
    "outputId": "c29ffa6c-ac46-45c5-e033-e11e492e3e10",
    "papermill": {
     "duration": null,
     "end_time": null,
     "exception": null,
     "start_time": null,
     "status": "pending"
    },
    "tags": []
   },
   "outputs": [
    {
     "data": {
      "text/html": [
       "<div>\n",
       "<style scoped>\n",
       "    .dataframe tbody tr th:only-of-type {\n",
       "        vertical-align: middle;\n",
       "    }\n",
       "\n",
       "    .dataframe tbody tr th {\n",
       "        vertical-align: top;\n",
       "    }\n",
       "\n",
       "    .dataframe thead th {\n",
       "        text-align: right;\n",
       "    }\n",
       "</style>\n",
       "<table border=\"1\" class=\"dataframe\">\n",
       "  <thead>\n",
       "    <tr style=\"text-align: right;\">\n",
       "      <th></th>\n",
       "      <th>type</th>\n",
       "      <th>text</th>\n",
       "    </tr>\n",
       "  </thead>\n",
       "  <tbody>\n",
       "    <tr>\n",
       "      <th>count</th>\n",
       "      <td>5559</td>\n",
       "      <td>5559</td>\n",
       "    </tr>\n",
       "    <tr>\n",
       "      <th>unique</th>\n",
       "      <td>2</td>\n",
       "      <td>5156</td>\n",
       "    </tr>\n",
       "    <tr>\n",
       "      <th>top</th>\n",
       "      <td>ham</td>\n",
       "      <td>Sorry, I'll call later</td>\n",
       "    </tr>\n",
       "    <tr>\n",
       "      <th>freq</th>\n",
       "      <td>4812</td>\n",
       "      <td>30</td>\n",
       "    </tr>\n",
       "  </tbody>\n",
       "</table>\n",
       "</div>"
      ],
      "text/plain": [
       "        type                    text\n",
       "count   5559                    5559\n",
       "unique     2                    5156\n",
       "top      ham  Sorry, I'll call later\n",
       "freq    4812                      30"
      ]
     },
     "execution_count": 5,
     "metadata": {},
     "output_type": "execute_result"
    }
   ],
   "source": [
    "df.describe()"
   ]
  },
  {
   "cell_type": "code",
   "execution_count": 6,
   "id": "fae74f83",
   "metadata": {
    "id": "zVuQ25mmxk-d",
    "outputId": "459b42ae-835c-4895-aaf3-07ae2bbe8735",
    "papermill": {
     "duration": null,
     "end_time": null,
     "exception": null,
     "start_time": null,
     "status": "pending"
    },
    "tags": []
   },
   "outputs": [
    {
     "name": "stdout",
     "output_type": "stream",
     "text": [
      "<class 'pandas.core.frame.DataFrame'>\n",
      "RangeIndex: 5559 entries, 0 to 5558\n",
      "Data columns (total 2 columns):\n",
      " #   Column  Non-Null Count  Dtype \n",
      "---  ------  --------------  ----- \n",
      " 0   type    5559 non-null   object\n",
      " 1   text    5559 non-null   object\n",
      "dtypes: object(2)\n",
      "memory usage: 87.0+ KB\n"
     ]
    }
   ],
   "source": [
    "##DATA INSPECTION\n",
    "df.info()"
   ]
  },
  {
   "cell_type": "code",
   "execution_count": 7,
   "id": "d67537b0",
   "metadata": {
    "id": "jHyrPZFsxw1C",
    "outputId": "7056065a-72a7-4b05-a512-c4e74cc82be8",
    "papermill": {
     "duration": null,
     "end_time": null,
     "exception": null,
     "start_time": null,
     "status": "pending"
    },
    "tags": []
   },
   "outputs": [
    {
     "data": {
      "text/plain": [
       "type    0\n",
       "text    0\n",
       "dtype: int64"
      ]
     },
     "execution_count": 7,
     "metadata": {},
     "output_type": "execute_result"
    }
   ],
   "source": [
    "##CHECKING FOR EMPTY DATA SET/NULL ENTRY\n",
    "df.isnull().sum()"
   ]
  },
  {
   "cell_type": "code",
   "execution_count": 8,
   "id": "923e281f",
   "metadata": {
    "id": "pDRXXKoix42J",
    "outputId": "802709d0-67e4-4320-8a7b-f112356fad21",
    "papermill": {
     "duration": null,
     "end_time": null,
     "exception": null,
     "start_time": null,
     "status": "pending"
    },
    "tags": []
   },
   "outputs": [
    {
     "data": {
      "text/plain": [
       "403"
      ]
     },
     "execution_count": 8,
     "metadata": {},
     "output_type": "execute_result"
    }
   ],
   "source": [
    "# Check for duplicate rows\n",
    "df.duplicated().sum()"
   ]
  },
  {
   "cell_type": "code",
   "execution_count": 9,
   "id": "cae8d495",
   "metadata": {
    "id": "KKYCdCK4x8ar",
    "outputId": "0b9e8a8b-32a2-41f6-b6d8-1c148bb243e1",
    "papermill": {
     "duration": null,
     "end_time": null,
     "exception": null,
     "start_time": null,
     "status": "pending"
    },
    "tags": []
   },
   "outputs": [
    {
     "data": {
      "text/html": [
       "<div>\n",
       "<style scoped>\n",
       "    .dataframe tbody tr th:only-of-type {\n",
       "        vertical-align: middle;\n",
       "    }\n",
       "\n",
       "    .dataframe tbody tr th {\n",
       "        vertical-align: top;\n",
       "    }\n",
       "\n",
       "    .dataframe thead th {\n",
       "        text-align: right;\n",
       "    }\n",
       "</style>\n",
       "<table border=\"1\" class=\"dataframe\">\n",
       "  <thead>\n",
       "    <tr style=\"text-align: right;\">\n",
       "      <th></th>\n",
       "      <th>type</th>\n",
       "      <th>text</th>\n",
       "    </tr>\n",
       "  </thead>\n",
       "  <tbody>\n",
       "    <tr>\n",
       "      <th>0</th>\n",
       "      <td>ham</td>\n",
       "      <td>Hope you are having a good week. Just checking in</td>\n",
       "    </tr>\n",
       "    <tr>\n",
       "      <th>1</th>\n",
       "      <td>ham</td>\n",
       "      <td>K..give back my thanks.</td>\n",
       "    </tr>\n",
       "    <tr>\n",
       "      <th>2</th>\n",
       "      <td>ham</td>\n",
       "      <td>Am also doing in cbe only. But have to pay.</td>\n",
       "    </tr>\n",
       "    <tr>\n",
       "      <th>3</th>\n",
       "      <td>spam</td>\n",
       "      <td>complimentary 4 STAR Ibiza Holiday or £10,000 ...</td>\n",
       "    </tr>\n",
       "    <tr>\n",
       "      <th>4</th>\n",
       "      <td>spam</td>\n",
       "      <td>okmail: Dear Dave this is your final notice to...</td>\n",
       "    </tr>\n",
       "    <tr>\n",
       "      <th>...</th>\n",
       "      <td>...</td>\n",
       "      <td>...</td>\n",
       "    </tr>\n",
       "    <tr>\n",
       "      <th>5554</th>\n",
       "      <td>ham</td>\n",
       "      <td>You are a great role model. You are giving so ...</td>\n",
       "    </tr>\n",
       "    <tr>\n",
       "      <th>5555</th>\n",
       "      <td>ham</td>\n",
       "      <td>Awesome, I remember the last time we got someb...</td>\n",
       "    </tr>\n",
       "    <tr>\n",
       "      <th>5556</th>\n",
       "      <td>spam</td>\n",
       "      <td>If you don't, your prize will go to another cu...</td>\n",
       "    </tr>\n",
       "    <tr>\n",
       "      <th>5557</th>\n",
       "      <td>spam</td>\n",
       "      <td>SMS. ac JSco: Energy is high, but u may not kn...</td>\n",
       "    </tr>\n",
       "    <tr>\n",
       "      <th>5558</th>\n",
       "      <td>ham</td>\n",
       "      <td>Shall call now dear having food</td>\n",
       "    </tr>\n",
       "  </tbody>\n",
       "</table>\n",
       "<p>5559 rows × 2 columns</p>\n",
       "</div>"
      ],
      "text/plain": [
       "      type                                               text\n",
       "0      ham  Hope you are having a good week. Just checking in\n",
       "1      ham                            K..give back my thanks.\n",
       "2      ham        Am also doing in cbe only. But have to pay.\n",
       "3     spam  complimentary 4 STAR Ibiza Holiday or £10,000 ...\n",
       "4     spam  okmail: Dear Dave this is your final notice to...\n",
       "...    ...                                                ...\n",
       "5554   ham  You are a great role model. You are giving so ...\n",
       "5555   ham  Awesome, I remember the last time we got someb...\n",
       "5556  spam  If you don't, your prize will go to another cu...\n",
       "5557  spam  SMS. ac JSco: Energy is high, but u may not kn...\n",
       "5558   ham                    Shall call now dear having food\n",
       "\n",
       "[5559 rows x 2 columns]"
      ]
     },
     "metadata": {},
     "output_type": "display_data"
    }
   ],
   "source": [
    "display(df)"
   ]
  },
  {
   "cell_type": "markdown",
   "id": "476d49cb",
   "metadata": {
    "id": "ncMT0gvCykkx",
    "papermill": {
     "duration": null,
     "end_time": null,
     "exception": null,
     "start_time": null,
     "status": "pending"
    },
    "tags": []
   },
   "source": [
    "DATA VISUALISATION"
   ]
  },
  {
   "cell_type": "code",
   "execution_count": 10,
   "id": "a9bc9af0",
   "metadata": {
    "id": "pfNSLBijyE7y",
    "outputId": "28956970-eaf4-477b-ac68-8564a8bf2e16",
    "papermill": {
     "duration": null,
     "end_time": null,
     "exception": null,
     "start_time": null,
     "status": "pending"
    },
    "tags": []
   },
   "outputs": [
    {
     "data": {
      "image/png": "[encoded data removed]",
      "text/plain": [
       "<Figure size 1000x1000 with 1 Axes>"
      ]
     },
     "metadata": {},
     "output_type": "display_data"
    }
   ],
   "source": [
    "# Group by 'type' and count the occurrences\n",
    "type_counts = df['type'].value_counts()\n",
    "\n",
    "# Plotting the pie chart\n",
    "plt.figure(figsize=(10, 10))\n",
    "type_counts.plot.pie(autopct='%1.1f%%', startangle=140, colors=plt.cm.Paired.colors)\n",
    "plt.title('Distribution of Types')\n",
    "plt.ylabel('')  # Hide the y-label\n",
    "plt.show()"
   ]
  },
  {
   "cell_type": "markdown",
   "id": "89e1ef97",
   "metadata": {
    "id": "aM0NKax3zpPs",
    "papermill": {
     "duration": null,
     "end_time": null,
     "exception": null,
     "start_time": null,
     "status": "pending"
    },
    "tags": []
   },
   "source": [
    "DATA PREPROCESSING"
   ]
  },
  {
   "cell_type": "code",
   "execution_count": 11,
   "id": "a4eaecf9",
   "metadata": {
    "id": "kLfUUnC9zsW1",
    "papermill": {
     "duration": null,
     "end_time": null,
     "exception": null,
     "start_time": null,
     "status": "pending"
    },
    "tags": []
   },
   "outputs": [],
   "source": [
    "data = df"
   ]
  },
  {
   "cell_type": "code",
   "execution_count": 12,
   "id": "bab86a8b",
   "metadata": {
    "id": "mIu5F-u6ynxv",
    "papermill": {
     "duration": null,
     "end_time": null,
     "exception": null,
     "start_time": null,
     "status": "pending"
    },
    "tags": []
   },
   "outputs": [],
   "source": [
    "# Remove the \" min\" substring from each value in the \"Duration\" column\n",
    "df[\"type\"] = df[\"type\"].str.replace(\"spam\", \"0\")\n",
    "df[\"type\"] = df[\"type\"].str.replace(\"ham\", \"1\")\n",
    "\n",
    "# Convert the \"Duration\" column to integers\n",
    "df[\"type\"] = df[\"type\"].astype(int)"
   ]
  },
  {
   "cell_type": "code",
   "execution_count": 13,
   "id": "1c50df37",
   "metadata": {
    "id": "J5KpC6lm0HRx",
    "outputId": "0bdcbc62-260b-4845-e335-3edaf34fdba3",
    "papermill": {
     "duration": null,
     "end_time": null,
     "exception": null,
     "start_time": null,
     "status": "pending"
    },
    "tags": []
   },
   "outputs": [
    {
     "data": {
      "text/html": [
       "<div>\n",
       "<style scoped>\n",
       "    .dataframe tbody tr th:only-of-type {\n",
       "        vertical-align: middle;\n",
       "    }\n",
       "\n",
       "    .dataframe tbody tr th {\n",
       "        vertical-align: top;\n",
       "    }\n",
       "\n",
       "    .dataframe thead th {\n",
       "        text-align: right;\n",
       "    }\n",
       "</style>\n",
       "<table border=\"1\" class=\"dataframe\">\n",
       "  <thead>\n",
       "    <tr style=\"text-align: right;\">\n",
       "      <th></th>\n",
       "      <th>type</th>\n",
       "      <th>text</th>\n",
       "    </tr>\n",
       "  </thead>\n",
       "  <tbody>\n",
       "    <tr>\n",
       "      <th>0</th>\n",
       "      <td>1</td>\n",
       "      <td>Hope you are having a good week. Just checking in</td>\n",
       "    </tr>\n",
       "    <tr>\n",
       "      <th>1</th>\n",
       "      <td>1</td>\n",
       "      <td>K..give back my thanks.</td>\n",
       "    </tr>\n",
       "    <tr>\n",
       "      <th>2</th>\n",
       "      <td>1</td>\n",
       "      <td>Am also doing in cbe only. But have to pay.</td>\n",
       "    </tr>\n",
       "    <tr>\n",
       "      <th>3</th>\n",
       "      <td>0</td>\n",
       "      <td>complimentary 4 STAR Ibiza Holiday or £10,000 ...</td>\n",
       "    </tr>\n",
       "    <tr>\n",
       "      <th>4</th>\n",
       "      <td>0</td>\n",
       "      <td>okmail: Dear Dave this is your final notice to...</td>\n",
       "    </tr>\n",
       "    <tr>\n",
       "      <th>...</th>\n",
       "      <td>...</td>\n",
       "      <td>...</td>\n",
       "    </tr>\n",
       "    <tr>\n",
       "      <th>5554</th>\n",
       "      <td>1</td>\n",
       "      <td>You are a great role model. You are giving so ...</td>\n",
       "    </tr>\n",
       "    <tr>\n",
       "      <th>5555</th>\n",
       "      <td>1</td>\n",
       "      <td>Awesome, I remember the last time we got someb...</td>\n",
       "    </tr>\n",
       "    <tr>\n",
       "      <th>5556</th>\n",
       "      <td>0</td>\n",
       "      <td>If you don't, your prize will go to another cu...</td>\n",
       "    </tr>\n",
       "    <tr>\n",
       "      <th>5557</th>\n",
       "      <td>0</td>\n",
       "      <td>SMS. ac JSco: Energy is high, but u may not kn...</td>\n",
       "    </tr>\n",
       "    <tr>\n",
       "      <th>5558</th>\n",
       "      <td>1</td>\n",
       "      <td>Shall call now dear having food</td>\n",
       "    </tr>\n",
       "  </tbody>\n",
       "</table>\n",
       "<p>5559 rows × 2 columns</p>\n",
       "</div>"
      ],
      "text/plain": [
       "      type                                               text\n",
       "0        1  Hope you are having a good week. Just checking in\n",
       "1        1                            K..give back my thanks.\n",
       "2        1        Am also doing in cbe only. But have to pay.\n",
       "3        0  complimentary 4 STAR Ibiza Holiday or £10,000 ...\n",
       "4        0  okmail: Dear Dave this is your final notice to...\n",
       "...    ...                                                ...\n",
       "5554     1  You are a great role model. You are giving so ...\n",
       "5555     1  Awesome, I remember the last time we got someb...\n",
       "5556     0  If you don't, your prize will go to another cu...\n",
       "5557     0  SMS. ac JSco: Energy is high, but u may not kn...\n",
       "5558     1                    Shall call now dear having food\n",
       "\n",
       "[5559 rows x 2 columns]"
      ]
     },
     "metadata": {},
     "output_type": "display_data"
    }
   ],
   "source": [
    "display(df)"
   ]
  },
  {
   "cell_type": "markdown",
   "id": "2a616c8d",
   "metadata": {
    "id": "KWp1A8cU2J6a",
    "papermill": {
     "duration": null,
     "end_time": null,
     "exception": null,
     "start_time": null,
     "status": "pending"
    },
    "tags": []
   },
   "source": [
    "MACHINE LEARNING MODEL MAKING"
   ]
  },
  {
   "cell_type": "markdown",
   "id": "dbc8dcf7",
   "metadata": {
    "id": "4qHbitcn1hwl",
    "papermill": {
     "duration": null,
     "end_time": null,
     "exception": null,
     "start_time": null,
     "status": "pending"
    },
    "tags": []
   },
   "source": [
    "Logistic Regression Modeling"
   ]
  },
  {
   "cell_type": "markdown",
   "id": "c3841482",
   "metadata": {
    "id": "5qCRZvGB1dh3",
    "papermill": {
     "duration": null,
     "end_time": null,
     "exception": null,
     "start_time": null,
     "status": "pending"
    },
    "tags": []
   },
   "source": [
    "Logistic Regression is a statistical modeling technique used to predict binary outcomes or probabilities. It is commonly used when the dependent variable (target variable) is categorical and has two possible outcomes, such as yes/no, success/failure, or 0/1.\n",
    "\n",
    "To perform logistic regression with 10-fold cross-validation using scikit-learn, you can use the following code:"
   ]
  },
  {
   "cell_type": "code",
   "execution_count": 14,
   "id": "9255d56b",
   "metadata": {
    "id": "VpsBH3R91XQ1",
    "papermill": {
     "duration": null,
     "end_time": null,
     "exception": null,
     "start_time": null,
     "status": "pending"
    },
    "tags": []
   },
   "outputs": [],
   "source": [
    "# Import\n",
    "from sklearn.linear_model import LogisticRegression\n",
    "from sklearn.model_selection import cross_val_score\n",
    "from sklearn.model_selection import StratifiedKFold\n",
    "from sklearn import preprocessing\n",
    "from sklearn.model_selection import train_test_split\n",
    "from sklearn.feature_extraction.text import CountVectorizer"
   ]
  },
  {
   "cell_type": "code",
   "execution_count": 15,
   "id": "2e935532",
   "metadata": {
    "id": "gRmLdvty4HwW",
    "outputId": "2a269809-5f0a-4017-c243-9a7db4cdc554",
    "papermill": {
     "duration": null,
     "end_time": null,
     "exception": null,
     "start_time": null,
     "status": "pending"
    },
    "tags": []
   },
   "outputs": [
    {
     "name": "stdout",
     "output_type": "stream",
     "text": [
      "Training features shape: (4447, 8666)\n",
      "Testing features shape: (1112, 8666)\n",
      "Training target:\n",
      " 1392    1\n",
      "2633    1\n",
      "2574    1\n",
      "1255    1\n",
      "4228    1\n",
      "       ..\n",
      "3772    1\n",
      "5191    1\n",
      "5226    1\n",
      "5390    1\n",
      "860     1\n",
      "Name: type, Length: 4447, dtype: int32\n",
      "Testing target:\n",
      " 4963    1\n",
      "4943    1\n",
      "4345    1\n",
      "230     1\n",
      "1044    1\n",
      "       ..\n",
      "4684    1\n",
      "5382    0\n",
      "2420    1\n",
      "3631    1\n",
      "70      1\n",
      "Name: type, Length: 1112, dtype: int32\n"
     ]
    }
   ],
   "source": [
    "# Define features and target\n",
    "X = df['text']  # Features\n",
    "y = df['type']  # Target variable\n",
    "\n",
    "# Convert text data to numerical features using CountVectorizer\n",
    "vectorizer = CountVectorizer()\n",
    "X_vectorized = vectorizer.fit_transform(X)\n",
    "\n",
    "# Split the data into training and testing sets\n",
    "X_train, X_test, y_train, y_test = train_test_split(X_vectorized, y, test_size=0.2, random_state=42)\n",
    "\n",
    "# Display the results\n",
    "print(\"Training features shape:\", X_train.shape)\n",
    "print(\"Testing features shape:\", X_test.shape)\n",
    "print(\"Training target:\\n\", y_train)\n",
    "print(\"Testing target:\\n\", y_test)"
   ]
  },
  {
   "cell_type": "code",
   "execution_count": 16,
   "id": "3146e535",
   "metadata": {
    "id": "rCVj8RHI1mtW",
    "outputId": "2cda1a17-3223-46ee-cdc0-81bf16392fc5",
    "papermill": {
     "duration": null,
     "end_time": null,
     "exception": null,
     "start_time": null,
     "status": "pending"
    },
    "tags": []
   },
   "outputs": [
    {
     "name": "stdout",
     "output_type": "stream",
     "text": [
      "Cross-validation accuracy scores: [0.97752809 0.96404494 0.95730337 0.97078652 0.97752809 0.96404494\n",
      " 0.95730337 0.96171171 0.97072072 0.97747748]\n",
      "Mean cross-validation accuracy: 0.9678449235752605\n"
     ]
    }
   ],
   "source": [
    "# Standardize the features (though not necessary for CountVectorizer output)\n",
    "scaler = preprocessing.StandardScaler(with_mean=False).fit(X_train)\n",
    "X_train_scaled = scaler.transform(X_train)\n",
    "X_test_scaled = scaler.transform(X_test)\n",
    "\n",
    "# Set up logistic regression model\n",
    "model = LogisticRegression(max_iter=1000)\n",
    "\n",
    "# Set up cross-validation strategy\n",
    "cv = StratifiedKFold(n_splits=10, shuffle=True, random_state=32)\n",
    "\n",
    "# Perform cross-validation and calculate accuracy\n",
    "scores = cross_val_score(model, X_train_scaled, y_train, scoring='accuracy', cv=cv)\n",
    "\n",
    "# Print the cross-validation scores\n",
    "print(\"Cross-validation accuracy scores:\", scores)\n",
    "print(\"Mean cross-validation accuracy:\", scores.mean())"
   ]
  },
  {
   "cell_type": "code",
   "execution_count": 17,
   "id": "b8925136",
   "metadata": {
    "id": "Oi6ArRjL2SsO",
    "outputId": "94806a19-9460-4172-b468-3caf2363932f",
    "papermill": {
     "duration": null,
     "end_time": null,
     "exception": null,
     "start_time": null,
     "status": "pending"
    },
    "tags": []
   },
   "outputs": [
    {
     "name": "stdout",
     "output_type": "stream",
     "text": [
      "Mean ROC AUC: 0.9678449235752605\n"
     ]
    }
   ],
   "source": [
    "# Print the mean ROC AUC score across folds\n",
    "print('Mean ROC AUC:', scores.mean())"
   ]
  },
  {
   "cell_type": "code",
   "execution_count": 18,
   "id": "20ff3944",
   "metadata": {
    "id": "cqoDntnK2yMD",
    "outputId": "8707b6db-180f-40af-f960-088d402b589d",
    "papermill": {
     "duration": null,
     "end_time": null,
     "exception": null,
     "start_time": null,
     "status": "pending"
    },
    "tags": []
   },
   "outputs": [
    {
     "data": {
      "text/html": [
       "<style>#sk-container-id-1 {\n",
       "  /* Definition of color scheme common for light and dark mode */\n",
       "  --sklearn-color-text: black;\n",
       "  --sklearn-color-line: gray;\n",
       "  /* Definition of color scheme for unfitted estimators */\n",
       "  --sklearn-color-unfitted-level-0: #fff5e6;\n",
       "  --sklearn-color-unfitted-level-1: #f6e4d2;\n",
       "  --sklearn-color-unfitted-level-2: #ffe0b3;\n",
       "  --sklearn-color-unfitted-level-3: chocolate;\n",
       "  /* Definition of color scheme for fitted estimators */\n",
       "  --sklearn-color-fitted-level-0: #f0f8ff;\n",
       "  --sklearn-color-fitted-level-1: #d4ebff;\n",
       "  --sklearn-color-fitted-level-2: #b3dbfd;\n",
       "  --sklearn-color-fitted-level-3: cornflowerblue;\n",
       "\n",
       "  /* Specific color for light theme */\n",
       "  --sklearn-color-text-on-default-background: var(--sg-text-color, var(--theme-code-foreground, var(--jp-content-font-color1, black)));\n",
       "  --sklearn-color-background: var(--sg-background-color, var(--theme-background, var(--jp-layout-color0, white)));\n",
       "  --sklearn-color-border-box: var(--sg-text-color, var(--theme-code-foreground, var(--jp-content-font-color1, black)));\n",
       "  --sklearn-color-icon: #696969;\n",
       "\n",
       "  @media (prefers-color-scheme: dark) {\n",
       "    /* Redefinition of color scheme for dark theme */\n",
       "    --sklearn-color-text-on-default-background: var(--sg-text-color, var(--theme-code-foreground, var(--jp-content-font-color1, white)));\n",
       "    --sklearn-color-background: var(--sg-background-color, var(--theme-background, var(--jp-layout-color0, #111)));\n",
       "    --sklearn-color-border-box: var(--sg-text-color, var(--theme-code-foreground, var(--jp-content-font-color1, white)));\n",
       "    --sklearn-color-icon: #878787;\n",
       "  }\n",
       "}\n",
       "\n",
       "#sk-container-id-1 {\n",
       "  color: var(--sklearn-color-text);\n",
       "}\n",
       "\n",
       "#sk-container-id-1 pre {\n",
       "  padding: 0;\n",
       "}\n",
       "\n",
       "#sk-container-id-1 input.sk-hidden--visually {\n",
       "  border: 0;\n",
       "  clip: rect(1px 1px 1px 1px);\n",
       "  clip: rect(1px, 1px, 1px, 1px);\n",
       "  height: 1px;\n",
       "  margin: -1px;\n",
       "  overflow: hidden;\n",
       "  padding: 0;\n",
       "  position: absolute;\n",
       "  width: 1px;\n",
       "}\n",
       "\n",
       "#sk-container-id-1 div.sk-dashed-wrapped {\n",
       "  border: 1px dashed var(--sklearn-color-line);\n",
       "  margin: 0 0.4em 0.5em 0.4em;\n",
       "  box-sizing: border-box;\n",
       "  padding-bottom: 0.4em;\n",
       "  background-color: var(--sklearn-color-background);\n",
       "}\n",
       "\n",
       "#sk-container-id-1 div.sk-container {\n",
       "  /* jupyter's `normalize.less` sets `[hidden] { display: none; }`\n",
       "     but bootstrap.min.css set `[hidden] { display: none !important; }`\n",
       "     so we also need the `!important` here to be able to override the\n",
       "     default hidden behavior on the sphinx rendered scikit-learn.org.\n",
       "     See: https://github.com/scikit-learn/scikit-learn/issues/21755 */\n",
       "  display: inline-block !important;\n",
       "  position: relative;\n",
       "}\n",
       "\n",
       "#sk-container-id-1 div.sk-text-repr-fallback {\n",
       "  display: none;\n",
       "}\n",
       "\n",
       "div.sk-parallel-item,\n",
       "div.sk-serial,\n",
       "div.sk-item {\n",
       "  /* draw centered vertical line to link estimators */\n",
       "  background-image: linear-gradient(var(--sklearn-color-text-on-default-background), var(--sklearn-color-text-on-default-background));\n",
       "  background-size: 2px 100%;\n",
       "  background-repeat: no-repeat;\n",
       "  background-position: center center;\n",
       "}\n",
       "\n",
       "/* Parallel-specific style estimator block */\n",
       "\n",
       "#sk-container-id-1 div.sk-parallel-item::after {\n",
       "  content: \"\";\n",
       "  width: 100%;\n",
       "  border-bottom: 2px solid var(--sklearn-color-text-on-default-background);\n",
       "  flex-grow: 1;\n",
       "}\n",
       "\n",
       "#sk-container-id-1 div.sk-parallel {\n",
       "  display: flex;\n",
       "  align-items: stretch;\n",
       "  justify-content: center;\n",
       "  background-color: var(--sklearn-color-background);\n",
       "  position: relative;\n",
       "}\n",
       "\n",
       "#sk-container-id-1 div.sk-parallel-item {\n",
       "  display: flex;\n",
       "  flex-direction: column;\n",
       "}\n",
       "\n",
       "#sk-container-id-1 div.sk-parallel-item:first-child::after {\n",
       "  align-self: flex-end;\n",
       "  width: 50%;\n",
       "}\n",
       "\n",
       "#sk-container-id-1 div.sk-parallel-item:last-child::after {\n",
       "  align-self: flex-start;\n",
       "  width: 50%;\n",
       "}\n",
       "\n",
       "#sk-container-id-1 div.sk-parallel-item:only-child::after {\n",
       "  width: 0;\n",
       "}\n",
       "\n",
       "/* Serial-specific style estimator block */\n",
       "\n",
       "#sk-container-id-1 div.sk-serial {\n",
       "  display: flex;\n",
       "  flex-direction: column;\n",
       "  align-items: center;\n",
       "  background-color: var(--sklearn-color-background);\n",
       "  padding-right: 1em;\n",
       "  padding-left: 1em;\n",
       "}\n",
       "\n",
       "\n",
       "/* Toggleable style: style used for estimator/Pipeline/ColumnTransformer box that is\n",
       "clickable and can be expanded/collapsed.\n",
       "- Pipeline and ColumnTransformer use this feature and define the default style\n",
       "- Estimators will overwrite some part of the style using the `sk-estimator` class\n",
       "*/\n",
       "\n",
       "/* Pipeline and ColumnTransformer style (default) */\n",
       "\n",
       "#sk-container-id-1 div.sk-toggleable {\n",
       "  /* Default theme specific background. It is overwritten whether we have a\n",
       "  specific estimator or a Pipeline/ColumnTransformer */\n",
       "  background-color: var(--sklearn-color-background);\n",
       "}\n",
       "\n",
       "/* Toggleable label */\n",
       "#sk-container-id-1 label.sk-toggleable__label {\n",
       "  cursor: pointer;\n",
       "  display: block;\n",
       "  width: 100%;\n",
       "  margin-bottom: 0;\n",
       "  padding: 0.5em;\n",
       "  box-sizing: border-box;\n",
       "  text-align: center;\n",
       "}\n",
       "\n",
       "#sk-container-id-1 label.sk-toggleable__label-arrow:before {\n",
       "  /* Arrow on the left of the label */\n",
       "  content: \"▸\";\n",
       "  float: left;\n",
       "  margin-right: 0.25em;\n",
       "  color: var(--sklearn-color-icon);\n",
       "}\n",
       "\n",
       "#sk-container-id-1 label.sk-toggleable__label-arrow:hover:before {\n",
       "  color: var(--sklearn-color-text);\n",
       "}\n",
       "\n",
       "/* Toggleable content - dropdown */\n",
       "\n",
       "#sk-container-id-1 div.sk-toggleable__content {\n",
       "  max-height: 0;\n",
       "  max-width: 0;\n",
       "  overflow: hidden;\n",
       "  text-align: left;\n",
       "  /* unfitted */\n",
       "  background-color: var(--sklearn-color-unfitted-level-0);\n",
       "}\n",
       "\n",
       "#sk-container-id-1 div.sk-toggleable__content.fitted {\n",
       "  /* fitted */\n",
       "  background-color: var(--sklearn-color-fitted-level-0);\n",
       "}\n",
       "\n",
       "#sk-container-id-1 div.sk-toggleable__content pre {\n",
       "  margin: 0.2em;\n",
       "  border-radius: 0.25em;\n",
       "  color: var(--sklearn-color-text);\n",
       "  /* unfitted */\n",
       "  background-color: var(--sklearn-color-unfitted-level-0);\n",
       "}\n",
       "\n",
       "#sk-container-id-1 div.sk-toggleable__content.fitted pre {\n",
       "  /* unfitted */\n",
       "  background-color: var(--sklearn-color-fitted-level-0);\n",
       "}\n",
       "\n",
       "#sk-container-id-1 input.sk-toggleable__control:checked~div.sk-toggleable__content {\n",
       "  /* Expand drop-down */\n",
       "  max-height: 200px;\n",
       "  max-width: 100%;\n",
       "  overflow: auto;\n",
       "}\n",
       "\n",
       "#sk-container-id-1 input.sk-toggleable__control:checked~label.sk-toggleable__label-arrow:before {\n",
       "  content: \"▾\";\n",
       "}\n",
       "\n",
       "/* Pipeline/ColumnTransformer-specific style */\n",
       "\n",
       "#sk-container-id-1 div.sk-label input.sk-toggleable__control:checked~label.sk-toggleable__label {\n",
       "  color: var(--sklearn-color-text);\n",
       "  background-color: var(--sklearn-color-unfitted-level-2);\n",
       "}\n",
       "\n",
       "#sk-container-id-1 div.sk-label.fitted input.sk-toggleable__control:checked~label.sk-toggleable__label {\n",
       "  background-color: var(--sklearn-color-fitted-level-2);\n",
       "}\n",
       "\n",
       "/* Estimator-specific style */\n",
       "\n",
       "/* Colorize estimator box */\n",
       "#sk-container-id-1 div.sk-estimator input.sk-toggleable__control:checked~label.sk-toggleable__label {\n",
       "  /* unfitted */\n",
       "  background-color: var(--sklearn-color-unfitted-level-2);\n",
       "}\n",
       "\n",
       "#sk-container-id-1 div.sk-estimator.fitted input.sk-toggleable__control:checked~label.sk-toggleable__label {\n",
       "  /* fitted */\n",
       "  background-color: var(--sklearn-color-fitted-level-2);\n",
       "}\n",
       "\n",
       "#sk-container-id-1 div.sk-label label.sk-toggleable__label,\n",
       "#sk-container-id-1 div.sk-label label {\n",
       "  /* The background is the default theme color */\n",
       "  color: var(--sklearn-color-text-on-default-background);\n",
       "}\n",
       "\n",
       "/* On hover, darken the color of the background */\n",
       "#sk-container-id-1 div.sk-label:hover label.sk-toggleable__label {\n",
       "  color: var(--sklearn-color-text);\n",
       "  background-color: var(--sklearn-color-unfitted-level-2);\n",
       "}\n",
       "\n",
       "/* Label box, darken color on hover, fitted */\n",
       "#sk-container-id-1 div.sk-label.fitted:hover label.sk-toggleable__label.fitted {\n",
       "  color: var(--sklearn-color-text);\n",
       "  background-color: var(--sklearn-color-fitted-level-2);\n",
       "}\n",
       "\n",
       "/* Estimator label */\n",
       "\n",
       "#sk-container-id-1 div.sk-label label {\n",
       "  font-family: monospace;\n",
       "  font-weight: bold;\n",
       "  display: inline-block;\n",
       "  line-height: 1.2em;\n",
       "}\n",
       "\n",
       "#sk-container-id-1 div.sk-label-container {\n",
       "  text-align: center;\n",
       "}\n",
       "\n",
       "/* Estimator-specific */\n",
       "#sk-container-id-1 div.sk-estimator {\n",
       "  font-family: monospace;\n",
       "  border: 1px dotted var(--sklearn-color-border-box);\n",
       "  border-radius: 0.25em;\n",
       "  box-sizing: border-box;\n",
       "  margin-bottom: 0.5em;\n",
       "  /* unfitted */\n",
       "  background-color: var(--sklearn-color-unfitted-level-0);\n",
       "}\n",
       "\n",
       "#sk-container-id-1 div.sk-estimator.fitted {\n",
       "  /* fitted */\n",
       "  background-color: var(--sklearn-color-fitted-level-0);\n",
       "}\n",
       "\n",
       "/* on hover */\n",
       "#sk-container-id-1 div.sk-estimator:hover {\n",
       "  /* unfitted */\n",
       "  background-color: var(--sklearn-color-unfitted-level-2);\n",
       "}\n",
       "\n",
       "#sk-container-id-1 div.sk-estimator.fitted:hover {\n",
       "  /* fitted */\n",
       "  background-color: var(--sklearn-color-fitted-level-2);\n",
       "}\n",
       "\n",
       "/* Specification for estimator info (e.g. \"i\" and \"?\") */\n",
       "\n",
       "/* Common style for \"i\" and \"?\" */\n",
       "\n",
       ".sk-estimator-doc-link,\n",
       "a:link.sk-estimator-doc-link,\n",
       "a:visited.sk-estimator-doc-link {\n",
       "  float: right;\n",
       "  font-size: smaller;\n",
       "  line-height: 1em;\n",
       "  font-family: monospace;\n",
       "  background-color: var(--sklearn-color-background);\n",
       "  border-radius: 1em;\n",
       "  height: 1em;\n",
       "  width: 1em;\n",
       "  text-decoration: none !important;\n",
       "  margin-left: 1ex;\n",
       "  /* unfitted */\n",
       "  border: var(--sklearn-color-unfitted-level-1) 1pt solid;\n",
       "  color: var(--sklearn-color-unfitted-level-1);\n",
       "}\n",
       "\n",
       ".sk-estimator-doc-link.fitted,\n",
       "a:link.sk-estimator-doc-link.fitted,\n",
       "a:visited.sk-estimator-doc-link.fitted {\n",
       "  /* fitted */\n",
       "  border: var(--sklearn-color-fitted-level-1) 1pt solid;\n",
       "  color: var(--sklearn-color-fitted-level-1);\n",
       "}\n",
       "\n",
       "/* On hover */\n",
       "div.sk-estimator:hover .sk-estimator-doc-link:hover,\n",
       ".sk-estimator-doc-link:hover,\n",
       "div.sk-label-container:hover .sk-estimator-doc-link:hover,\n",
       ".sk-estimator-doc-link:hover {\n",
       "  /* unfitted */\n",
       "  background-color: var(--sklearn-color-unfitted-level-3);\n",
       "  color: var(--sklearn-color-background);\n",
       "  text-decoration: none;\n",
       "}\n",
       "\n",
       "div.sk-estimator.fitted:hover .sk-estimator-doc-link.fitted:hover,\n",
       ".sk-estimator-doc-link.fitted:hover,\n",
       "div.sk-label-container:hover .sk-estimator-doc-link.fitted:hover,\n",
       ".sk-estimator-doc-link.fitted:hover {\n",
       "  /* fitted */\n",
       "  background-color: var(--sklearn-color-fitted-level-3);\n",
       "  color: var(--sklearn-color-background);\n",
       "  text-decoration: none;\n",
       "}\n",
       "\n",
       "/* Span, style for the box shown on hovering the info icon */\n",
       ".sk-estimator-doc-link span {\n",
       "  display: none;\n",
       "  z-index: 9999;\n",
       "  position: relative;\n",
       "  font-weight: normal;\n",
       "  right: .2ex;\n",
       "  padding: .5ex;\n",
       "  margin: .5ex;\n",
       "  width: min-content;\n",
       "  min-width: 20ex;\n",
       "  max-width: 50ex;\n",
       "  color: var(--sklearn-color-text);\n",
       "  box-shadow: 2pt 2pt 4pt #999;\n",
       "  /* unfitted */\n",
       "  background: var(--sklearn-color-unfitted-level-0);\n",
       "  border: .5pt solid var(--sklearn-color-unfitted-level-3);\n",
       "}\n",
       "\n",
       ".sk-estimator-doc-link.fitted span {\n",
       "  /* fitted */\n",
       "  background: var(--sklearn-color-fitted-level-0);\n",
       "  border: var(--sklearn-color-fitted-level-3);\n",
       "}\n",
       "\n",
       ".sk-estimator-doc-link:hover span {\n",
       "  display: block;\n",
       "}\n",
       "\n",
       "/* \"?\"-specific style due to the `<a>` HTML tag */\n",
       "\n",
       "#sk-container-id-1 a.estimator_doc_link {\n",
       "  float: right;\n",
       "  font-size: 1rem;\n",
       "  line-height: 1em;\n",
       "  font-family: monospace;\n",
       "  background-color: var(--sklearn-color-background);\n",
       "  border-radius: 1rem;\n",
       "  height: 1rem;\n",
       "  width: 1rem;\n",
       "  text-decoration: none;\n",
       "  /* unfitted */\n",
       "  color: var(--sklearn-color-unfitted-level-1);\n",
       "  border: var(--sklearn-color-unfitted-level-1) 1pt solid;\n",
       "}\n",
       "\n",
       "#sk-container-id-1 a.estimator_doc_link.fitted {\n",
       "  /* fitted */\n",
       "  border: var(--sklearn-color-fitted-level-1) 1pt solid;\n",
       "  color: var(--sklearn-color-fitted-level-1);\n",
       "}\n",
       "\n",
       "/* On hover */\n",
       "#sk-container-id-1 a.estimator_doc_link:hover {\n",
       "  /* unfitted */\n",
       "  background-color: var(--sklearn-color-unfitted-level-3);\n",
       "  color: var(--sklearn-color-background);\n",
       "  text-decoration: none;\n",
       "}\n",
       "\n",
       "#sk-container-id-1 a.estimator_doc_link.fitted:hover {\n",
       "  /* fitted */\n",
       "  background-color: var(--sklearn-color-fitted-level-3);\n",
       "}\n",
       "</style><div id=\"sk-container-id-1\" class=\"sk-top-container\"><div class=\"sk-text-repr-fallback\"><pre>LogisticRegression(max_iter=1000)</pre><b>In a Jupyter environment, please rerun this cell to show the HTML representation or trust the notebook. <br />On GitHub, the HTML representation is unable to render, please try loading this page with nbviewer.org.</b></div><div class=\"sk-container\" hidden><div class=\"sk-item\"><div class=\"sk-estimator fitted sk-toggleable\"><input class=\"sk-toggleable__control sk-hidden--visually\" id=\"sk-estimator-id-1\" type=\"checkbox\" checked><label for=\"sk-estimator-id-1\" class=\"sk-toggleable__label fitted sk-toggleable__label-arrow fitted\">&nbsp;&nbsp;LogisticRegression<a class=\"sk-estimator-doc-link fitted\" rel=\"noreferrer\" target=\"_blank\" href=\"https://scikit-learn.org/1.5/modules/generated/sklearn.linear_model.LogisticRegression.html\">?<span>Documentation for LogisticRegression</span></a><span class=\"sk-estimator-doc-link fitted\">i<span>Fitted</span></span></label><div class=\"sk-toggleable__content fitted\"><pre>LogisticRegression(max_iter=1000)</pre></div> </div></div></div></div>"
      ],
      "text/plain": [
       "LogisticRegression(max_iter=1000)"
      ]
     },
     "execution_count": 18,
     "metadata": {},
     "output_type": "execute_result"
    }
   ],
   "source": [
    "# Fit the model on the training set\n",
    "model.fit(X_train_scaled, y_train)"
   ]
  },
  {
   "cell_type": "code",
   "execution_count": 19,
   "id": "95bb7e57",
   "metadata": {
    "id": "jubemPGK9KxD",
    "papermill": {
     "duration": null,
     "end_time": null,
     "exception": null,
     "start_time": null,
     "status": "pending"
    },
    "tags": []
   },
   "outputs": [],
   "source": [
    "# Predict on the test set\n",
    "y_pred = model.predict(X_test_scaled)"
   ]
  },
  {
   "cell_type": "code",
   "execution_count": 20,
   "id": "5af7662c",
   "metadata": {
    "id": "knrtjjAV9do-",
    "papermill": {
     "duration": null,
     "end_time": null,
     "exception": null,
     "start_time": null,
     "status": "pending"
    },
    "tags": []
   },
   "outputs": [],
   "source": [
    "from sklearn.metrics import accuracy_score, roc_auc_score"
   ]
  },
  {
   "cell_type": "code",
   "execution_count": 21,
   "id": "9b652620",
   "metadata": {
    "id": "mdEGXdrH9PQ9",
    "outputId": "d2ed8720-58d3-4775-cb0e-a34fee66d7af",
    "papermill": {
     "duration": null,
     "end_time": null,
     "exception": null,
     "start_time": null,
     "status": "pending"
    },
    "tags": []
   },
   "outputs": [
    {
     "name": "stdout",
     "output_type": "stream",
     "text": [
      "Test set accuracy: 0.9730215827338129\n"
     ]
    }
   ],
   "source": [
    "# Evaluate the model\n",
    "accuracy = accuracy_score(y_test, y_pred)\n",
    "print(\"Test set accuracy:\", accuracy)"
   ]
  },
  {
   "cell_type": "code",
   "execution_count": 22,
   "id": "c63db5c1",
   "metadata": {
    "id": "eVOhK73U9h9k",
    "outputId": "14e4ba4a-f71c-4196-d571-324a41b0eeeb",
    "papermill": {
     "duration": null,
     "end_time": null,
     "exception": null,
     "start_time": null,
     "status": "pending"
    },
    "tags": []
   },
   "outputs": [
    {
     "name": "stdout",
     "output_type": "stream",
     "text": [
      "[0.99995704 0.99992202 0.99993464 ... 0.99996811 0.99993955 0.99993703]\n",
      "[0.9999570388012223, 0.9999220222822827, 0.9999346414545659, 0.9998420459235298, 0.9999295048258069, 0.9999783293703428, 0.999947394736193, 0.9999112427633207, 0.9999445573363951, 0.998998437140438, 0.9999565295428965, 0.9999838626164786, 0.9998717944970853, 0.9999838076222998, 0.9999479126301773, 0.9998828110240849, 0.058182852070438364, 0.999886152706198, 0.9997257360150339, 0.9997852633303252, 0.02098630991232628, 0.9999616760329971, 0.999953309136735, 0.9994560933868618, 0.9976363995970137, 0.9995265037413549, 0.9999711213570118, 0.9998994177739707, 0.9997104885366851, 0.9999553302147755, 0.9998832388791299, 0.999912199013986, 0.999922360042773, 0.9999905592708522, 0.999505562618266, 0.9999358857091003, 0.9999768280022313, 0.9998344958639599, 0.999910315245137, 0.0008875937593904702, 0.9996423339375322, 0.9999514818524173, 0.9999502663707269, 0.9999638740069116, 0.9999545610866644, 0.9999388828741808, 0.9998666923115186, 0.9999868490384505, 0.9998853173869413, 0.999972139624189, 0.9999305593939977, 0.999961773748968, 0.999890902658756, 0.9999820852552733, 0.9997035527101207, 0.9999289472352827, 0.9999948870863831, 0.9997409220078474, 0.9998389304676099, 0.004799843019768132, 0.9999770295912974, 0.9999972096966605, 0.9999733082311747, 0.9998539977521443, 0.9999449418475875, 0.21661945122719298, 0.9999537860995829, 0.999812338110209, 0.9998736703538582, 0.9999831932872479, 0.9973697066169418, 0.9999349818414085, 0.9999325944781863, 0.999942103132486, 0.0015120729980364358, 0.9999607316504024, 0.999962405263871, 0.9999979423078175, 0.9998278701693537, 0.9999325912723273, 0.9999416233383304, 0.9998988192877789, 7.12090332999779e-05, 0.9999451680927833, 0.7232657710900164, 0.9998832639897856, 0.1851823794506461, 0.9999060656747497, 0.9999592353991182, 0.9999126993448352, 0.0002571637919976358, 0.999997418541911, 0.999889343075963, 0.9998762196073515, 0.9998316699738583, 0.9999963441619283, 0.9999824520280446, 0.9999164473478976, 0.9995439623474054, 0.9998940497349152, 0.9994996516297497, 0.9996309544685406, 0.9999798073207009, 0.9999437378139352, 0.999885260636876, 0.9999094230704809, 0.9999808198059738, 0.002822153537524677, 0.9999531295191514, 0.9999148088159152, 0.9998751218124087, 0.9999022191694373, 0.999936236656949, 0.9999596722385575, 0.9997593108949167, 0.9998024974561721, 0.999888033953193, 0.9999570775198595, 0.9999335782866663, 0.0062766855802617, 0.99987614859249, 0.9999411943833751, 0.44187315438186986, 0.9998453202396038, 0.9999265492678417, 0.9998950353463794, 0.9998879982765353, 0.9999398032573213, 0.9999900490736824, 0.9999204322097213, 0.9999526025425748, 0.9999432342965866, 0.9999367246994016, 0.9999709615980272, 0.9999276248629032, 0.9999168405113219, 0.9997997924319357, 0.9999493894208554, 0.9999704226732874, 0.999809910851117, 0.9999137475340969, 0.9999088542476714, 0.9997886105776228, 0.600273622991891, 0.9998872867171207, 0.9999332916573209, 0.9999026956507062, 0.999743070814759, 0.999972389666477, 0.9997335013622358, 0.9996053024255594, 0.9999812338786397, 0.9997187102978745, 0.0004438407323397311, 0.9999605968407347, 0.9998943768018318, 0.9997535610050062, 0.9998775995159359, 0.999972910020173, 0.9999156193695132, 0.9999261777964833, 0.9999958980787946, 0.9785590078948954, 0.9999190306018585, 0.9998616941393175, 0.9999549966816519, 0.9999592633010699, 0.9998869257039116, 0.9999466811942068, 0.999984410454298, 0.9998676787673505, 0.999930745263609, 0.999949528320469, 0.9999295267754476, 0.9996628273191412, 0.9998908938481814, 0.9999518055855732, 0.9999300772875265, 0.9999158840472678, 0.9998634429999341, 0.9997057300143813, 0.9999064938792168, 0.9999554778906551, 0.9999905886811334, 0.9998838957900238, 0.9999398844400224, 0.9996697686620973, 0.9999321319066262, 0.9976733913761582, 0.018532601682290838, 0.992871264425585, 0.999855016034249, 0.9999483918540607, 0.004994320103170314, 0.9999433725632113, 8.937214666640848e-05, 0.0003780879651649646, 0.00035756861738971363, 0.05406773612305163, 0.9999611527813261, 0.002542295874558369, 0.999874925360186, 0.9999249344781385, 0.9999108593477218, 0.999995245034574, 0.45064222973691803, 0.9998870793565569, 0.999916766973222, 0.999955710883108, 0.999980485211798, 0.9999019733328194, 0.9998494154608242, 0.9999506885390459, 0.9998699193486947, 0.9974002148152196, 0.999603785856557, 0.9999726097622634, 0.00012773387910676304, 0.9999913038968211, 0.00029821803735479644, 0.9999025217311684, 0.0007611617583407162, 0.9997246347749222, 0.999947594009924, 0.9999574701992966, 0.9999672091951581, 0.9999262664431104, 0.9997569694651339, 0.999949528320469, 0.9998324378812249, 0.9994221885326641, 0.9999503346288195, 0.9999200662649157, 0.9999280156860877, 0.9986825836325397, 0.9998802570969154, 0.9998946829223461, 0.9999266880793005, 0.0004341651963432578, 0.9982950541942257, 0.9999324236486208, 0.999919712460734, 0.00017615467017158552, 0.9998127023724971, 0.9999711292202945, 0.9999442671513278, 0.9999657287678898, 0.9997777936505564, 0.999831037460004, 0.9998748715208398, 0.9997383389177696, 0.9999323778377279, 0.9998898335603837, 0.0003605611129976216, 0.9999031715292187, 0.9999037684741768, 0.9999410219558768, 0.9999167884900083, 0.9998830101198146, 0.9999501569508832, 0.004522571691761521, 0.9999896015448461, 0.9998950353463794, 0.9996437595072736, 0.14445159100719718, 0.9999558803271446, 0.0008525299387884571, 0.9981497515153699, 0.9999076320981185, 0.999879571177932, 0.9999518837216143, 0.9994645596295908, 0.0062939437724075726, 0.9996624485212113, 0.9999795445745817, 0.00038919420396005397, 0.99994556974694, 0.9998978577502811, 0.9999725844413103, 0.9999767109008342, 0.999892444221653, 0.9968315699862125, 0.9998850341686235, 0.9998775191959461, 0.7181438846366397, 0.9998661901867175, 0.9999681002329363, 0.9999752847624606, 0.9999609800807251, 0.9998966911524334, 0.99970896984389, 0.999960425112448, 0.9999312866330109, 0.9999461360381995, 0.9999253412031288, 0.999914851410804, 0.999906985062737, 0.9998071738012426, 0.9998540068748942, 0.9999216210050694, 0.9999363595713676, 0.9999253644125102, 0.9999863461144285, 9.522479859579628e-05, 0.9998907054094399, 0.9999451120211181, 0.9998492283580425, 7.810936204721092e-06, 0.9999351516831784, 0.9998107990461811, 0.9999649243279108, 0.9998916022626226, 0.9998117763105184, 0.9999605678890239, 0.0469953460730476, 0.9999498398390334, 0.9999492663026385, 0.9999520634454006, 0.999557223593976, 0.9999641999643324, 0.999902487744109, 0.9999307815410814, 0.8292987126500282, 0.9999645611475397, 0.9999527862905381, 0.9999136846797774, 0.9999261634967616, 0.9999622056213416, 0.999900733283542, 0.0016030973102761192, 0.9999282972419838, 0.9975360864437821, 0.9999215347440925, 0.9999638171324888, 0.9999266252622997, 0.9999110290991619, 0.006513889843534635, 0.1825293899255244, 0.999867744349245, 0.034243777810782285, 3.2040928795561544e-05, 0.9999722245276713, 0.9999018831884814, 0.9999599914169045, 0.9999265492678417, 0.9999415912568891, 0.9999257259380149, 0.9998044929162084, 0.9999446784729467, 0.999868575940869, 0.030572884305025375, 0.9998638329740378, 0.9998926387722742, 0.999954036942384, 0.9999722649782458, 0.9999577193996266, 0.9999374965399862, 0.9999465122793659, 0.9999953265732393, 0.9999540204551401, 0.9999307363556135, 0.9999246850714657, 0.9998832639897856, 0.9998031300379843, 0.9993709036203707, 0.9290638347577465, 0.9999098998890663, 0.999702304094219, 0.9999138358228514, 0.999935976154076, 0.9999678940132776, 0.999870565057048, 0.9997924451858983, 0.9999957594667098, 0.9999606211347848, 0.9998936388977695, 0.99977654970088, 0.8551826343374399, 0.9997199962361398, 0.9998635834794224, 0.9995846626295879, 0.9999572113851, 0.9999898739581714, 0.00031813440567131693, 0.9998856854022021, 0.0005251024788830763, 0.9999125579475263, 0.9999220433214394, 0.9999304673210203, 0.00019082021733661558, 0.9997620890088947, 0.21557657766817503, 0.9999173822569346, 0.9996369720682006, 0.999961773748968, 0.9999563538379656, 0.999939084719971, 0.9999826835880442, 0.0469953460730476, 0.9998526844492986, 0.9998353323984694, 0.9999550532035525, 0.9998327853967464, 0.9999224041911268, 0.9998701852395364, 0.0003359044345365029, 0.9996774937440488, 0.9999412200571242, 0.9999425083700834, 0.999776216380006, 0.473918900660308, 0.9999933851751449, 0.9997316847726224, 0.9999321153932502, 0.999875564222429, 0.9999587855072186, 0.9998737643926205, 0.9999945343367642, 0.9999099235722939, 0.9999181672010449, 0.9999591061176754, 0.9661082244623861, 0.9999958319880605, 0.9734453815278764, 0.9999667975362191, 0.9999684253995679, 0.9998652405664957, 0.999427021289915, 0.9989181781020443, 0.9998153416593986, 0.9999000796922428, 0.0005531351068724234, 0.9998526844492986, 0.9999792857506198, 0.9999312076882848, 0.9999599471230666, 0.9999520580342283, 0.9999268623958688, 0.9996404547824197, 0.9999429147211425, 0.9999521321496123, 0.9998106145143358, 0.9999570729643388, 0.9998790246100692, 0.9999350366592142, 0.9985106273133788, 0.999707558922787, 0.9997359154295143, 0.9999194135596864, 0.9999632104911915, 0.999835320663976, 0.9998565187756031, 0.999898150212413, 0.9999443792704923, 0.9999106541023598, 0.999929565933424, 0.9999480318189942, 0.9998949053513253, 0.9999477315096295, 0.0003879977841571506, 0.999962222551867, 0.99990798525752, 0.9998916727252763, 0.9999435024021627, 0.9997352952759196, 0.999884701775078, 0.9999179418337494, 0.9999554666299161, 0.999967222284365, 0.9999815502263834, 0.9999268313570386, 0.9999720138792579, 0.9998596638448677, 0.9998889264068505, 0.999933971524744, 0.9999567076142415, 0.9998991213974463, 0.9998526844492986, 0.9999333144675726, 0.9999211013152032, 0.9999017954437466, 0.9998772124534474, 0.9999215537012912, 0.9998821690255228, 0.9999827422490635, 0.9999713676156949, 0.9999341714702085, 0.9999735271222587, 0.9988442421844894, 0.9998666638214463, 0.9998823042662058, 0.9998517525383956, 0.9998716102026337, 0.9999699318212525, 0.99970896984389, 0.9998732624541599, 0.9999541126620751, 0.9999091974113332, 0.9999230225895379, 0.9994705529185005, 0.9998536504892248, 0.9999364460815992, 0.999834813074621, 0.99987614859249, 0.9999222738454744, 0.00015550358145893848, 0.9999020711554814, 0.6188981100001397, 0.9998112604064192, 0.9999290609925169, 0.999944364559225, 0.999895162366626, 0.9999522180778011, 0.9998354554922253, 0.9999337177531842, 0.9999937631843149, 0.9994742460031657, 0.9999749376020304, 0.9999548244246663, 0.9414976013468022, 0.9999827589757231, 0.9998494215699407, 0.9998114217549137, 0.9999294333840222, 0.9999633543664516, 0.9999749685904927, 0.9999871495089068, 9.624233324941362e-05, 0.005960864359264425, 0.9998951940016841, 0.9999354770583067, 0.9999228275306848, 0.9999248923929758, 0.9998950539813791, 0.9999087291587843, 0.9999827251253572, 0.9999861296442893, 0.9997282630164515, 0.0006779310471321016, 0.9998545354782635, 0.9998989687473158, 0.9998524205387231, 0.999986852893817, 0.9999393118000494, 0.9998998437882199, 0.9999590343861428, 0.999928961176753, 0.9999704349251051, 0.999922239846064, 0.9999542215375243, 0.999989692508183, 0.9998558102601741, 0.9999276285432789, 0.9998676052113876, 0.999922887419441, 0.9999491595588836, 0.9999614723458913, 0.9999249923495659, 0.9999483638884388, 0.9999134215951324, 0.9998485991954357, 0.9999547114073197, 0.9998242392776067, 0.9999350497992873, 0.999935560617288, 0.9998556255978198, 0.999921135620972, 0.9999113698011634, 0.9999622056213416, 0.9999247834489641, 0.9998196627469063, 0.9999404240784783, 0.9998888441990617, 0.9999971415507265, 0.9999852278046621, 0.9999243940256592, 0.9999175726715736, 0.9998007463033678, 0.9998431982586458, 0.9999578993820711, 0.9999775368519104, 0.9999718828611622, 0.9999885297206733, 0.9998928991259449, 0.9999635176277185, 0.9993240690615567, 0.9999490600424, 0.9999280385156616, 0.9999097706587113, 0.9999181178577824, 0.9999324291422161, 0.9999307363556135, 0.9998967337829807, 0.999649355093928, 0.9999824951764176, 0.9987460413878815, 0.9999579502040342, 0.999921883060322, 0.9999463160241296, 0.9993878600458647, 0.9999901789420349, 0.9999173055786831, 0.9999197230773524, 0.9999571160995786, 0.9999000937327882, 0.99993300186101, 0.9998820135807155, 0.999975867775061, 0.9998989224921346, 0.9999265492678417, 0.0013504249994930502, 0.9999773024376515, 0.008600810557149499, 0.9999611628406325, 0.9999198665678491, 0.9939174653913883, 0.9987192413832597, 0.9999904856357558, 0.045290803703897015, 0.9999377315719823, 0.9999478986284088, 0.9997483626581651, 0.9999411360719569, 0.9999708186736519, 0.9999252563876361, 0.9999510086535667, 0.9999213077130972, 0.9999379416024315, 0.9999011783945454, 0.9999705220599086, 0.9928064157334002, 0.9999896094097741, 0.9976917777537946, 0.999791928357014, 0.9999320809736063, 0.9999953882082033, 0.99991153863298, 0.9997365331349585, 0.9997481879550061, 0.9999017893841284, 0.9998938879271743, 0.9999265492678417, 0.9998103869296436, 0.9994917037719871, 0.9999073869668731, 0.9999883602877311, 0.9999634402268311, 0.9999924271304141, 0.9999220544759347, 0.9999326062965662, 0.9999695446683575, 0.9999618077095827, 0.9999703450051994, 0.9998020573982506, 0.9998546851533269, 0.9998874074589266, 0.00027379036546469187, 0.9996237700019516, 0.9996569289253736, 0.9998758409186036, 0.9999356067765368, 0.9999756333391305, 0.9999637192379125, 0.9996909392078881, 0.9998250090731784, 0.9999656525476255, 0.9999044617662476, 0.9999253254410185, 0.9998946580178248, 0.9997673132665397, 0.9997939920043021, 0.9998768825267771, 0.999868575940869, 0.99984242968327, 0.9999342841288561, 0.9997831788911574, 0.999972586318172, 0.9998217001008252, 0.9999648242431948, 0.9997057239429089, 0.9999463160241296, 0.9999350497992873, 0.99975578758007, 0.9999769250041467, 0.9998889940888323, 0.9999552757050855, 0.9997076909766595, 0.9901136304383815, 0.9998083459613553, 0.9999223856512953, 0.9992043333894849, 4.3725827539808996e-05, 0.9989725089426651, 0.00013465418670509344, 0.9999065720327804, 0.999909861634729, 0.9999649667806493, 0.9997554646383481, 0.9999508046123309, 0.9999146819529442, 0.9998842304995564, 0.0001446875738389829, 0.9999820265485385, 0.13379356812943055, 0.0002381680602647983, 0.9999567284168499, 0.9998783912083384, 0.999926739313508, 0.9996016601157968, 0.9999181596259691, 0.9999576210902482, 0.9999516058755161, 0.999981142247558, 0.9998795113898508, 0.9999513015396346, 0.9997190751882695, 0.999910212537429, 0.9999714315372396, 0.9999554309528866, 0.9999510352921573, 0.99996435596993, 0.999950874737272, 0.999854569053325, 0.9997295039055689, 0.9999741890413513, 0.8906269784602576, 0.999662052170304, 0.9998769930955388, 0.9999805161311368, 0.9999667022534395, 0.0005261420489370456, 0.00021797872636366062, 0.9998415789486755, 0.9998526844492986, 0.9999643921930719, 0.9999378054543097, 0.999985514234839, 0.9999303008242217, 0.00018310974880818957, 0.0005531857055672038, 0.9999348100718727, 0.9990818094171652, 0.00035756861738971363, 0.03361313884172524, 0.999937621514131, 0.9997485732408176, 0.9999487854542892, 0.9998368077681707, 0.9999353521203326, 0.9998746008500848, 0.9999622399016882, 0.9999622122277867, 0.99994246786728, 0.9997646696020989, 0.9999724963765676, 0.9999092895395728, 0.9999725059735728, 0.9998889940888323, 0.999737622813307, 0.998285689226943, 0.9999966330547881, 0.9891961765532465, 0.999918516035486, 0.9998627449587146, 0.9999320223668946, 0.9998949189248922, 0.9999172064074229, 0.9999399482157605, 0.9999945198258497, 0.9999701813873155, 0.00025344911130257885, 0.9997945210049526, 0.999676087557434, 0.9991402076869351, 5.5588747082607546e-05, 0.9995882405473457, 0.9999390762601231, 0.00023347990893335353, 9.023928560471793e-06, 0.999879571177932, 0.9999646949416108, 0.9998764287790357, 0.9985972742946084, 0.9997119409157625, 0.9999377212574853, 0.9947595427788299, 0.9998402055411705, 0.9999598361471157, 0.9999660633309403, 0.9999609610509259, 0.9999357009477281, 0.9999120096379936, 0.9999418258477765, 0.9999159881236743, 0.9999507125072236, 0.9999404661433413, 0.9997486071296178, 0.9998891792042944, 0.9998526844492986, 0.9999424279104995, 0.9998750108257066, 0.00010168074137041742, 0.0002478674792223217, 0.9999462959675499, 0.9999548712029919, 0.9999450298875154, 0.9997348629585409, 0.0015021089705537561, 0.9999502690166983, 0.9999693257744958, 0.9999709513187843, 0.9998943405411821, 0.9998775146313875, 0.999993178938249, 0.999988901794961, 0.6765179919121517, 0.9999105304929619, 0.9997680293091102, 0.9994309375812492, 0.00909797127509302, 0.9998746727584582, 0.9537057832049376, 0.9999686293862342, 0.9999100760779779, 0.9998526844492986, 0.999936340470726, 0.9999773832853162, 0.9999644035962016, 0.9999853866816028, 0.9998853923079716, 0.1853510424973595, 0.0006574591884716658, 0.9999492910902921, 0.9999257797632889, 0.9999673086581552, 0.9999677952661957, 0.9999299841349534, 0.9999563250135085, 0.9999050541384175, 2.984337634919913e-05, 0.9999360886035541, 0.0014650290217974582, 0.9997473604944529, 0.9999485388330749, 0.0003622192257748894, 0.9999875141561375, 0.9998815693893025, 0.9999360901312915, 0.9998995611790689, 0.9999167495932589, 0.9999386107086122, 0.999856816419573, 0.99997826123013, 0.9901680463235084, 0.999965333451495, 0.00048181169874165304, 0.9999643532605162, 0.7232657710900164, 0.999809366066523, 0.9996552421506127, 0.00032895560603803434, 0.4805559172277451, 0.9999338336531581, 0.9999241717364137, 0.9994688559119422, 0.9999792149768623, 0.999953231978614, 0.9999822967935983, 0.9999765481923443, 0.9999391641848963, 0.9999306551464865, 0.9819844156301089, 0.9997874403137401, 0.9999529919799908, 0.9998824812205244, 0.9999421921125516, 0.9999079597997511, 0.999963521450164, 0.999619322267613, 0.9998912598555169, 0.0002693600686344681, 0.9999056696817832, 0.0003359044345365029, 0.0009160905939502229, 0.9999819498258404, 0.0013504249994930502, 0.00024918232489946337, 0.999903081942741, 0.9999356222827304, 0.9998957258871263, 0.9928696909132678, 0.9998910371214489, 0.9999150823600733, 0.9994640652407735, 0.9999643981610062, 0.9989544275932252, 0.9999315403897825, 0.9998480514270885, 0.9999616250013139, 0.9995128294634842, 0.9999060921388415, 0.0003879977841571506, 0.9998319344185422, 0.9940324543643834, 0.9998844154713697, 0.9989295609331778, 0.9999244046355426, 0.9999049588617465, 0.999887904234192, 0.9999527097425577, 0.999969874500306, 0.9999501836469272, 0.000297811715983316, 0.9737011952073575, 0.9995126402075679, 0.9999720363703553, 0.9999423698651287, 0.0005958735164405013, 0.9999880438250976, 0.0007819416994688479, 0.9999494772955791, 0.9999351077935654, 0.9998817934712675, 0.9999101473863176, 0.9999790731206364, 0.999907464382182, 0.9999626364813431, 0.3989919774787122, 0.9993722006021465, 0.9999265492678417, 0.9963529075409006, 0.03161688472664781, 0.9998736376554257, 0.9999972647607982, 0.9998877728715951, 0.9998996586757627, 0.9999796381152091, 0.9999049205123312, 0.9999575338155846, 0.9996039076546377, 0.9997886321340699, 0.9999917508781221, 0.9999497453808235, 0.9999553991741646, 0.9998488706413925, 0.9998966742171155, 0.9999468979974987, 0.9998879771282843, 0.9996832335777077, 0.9999428392852155, 0.021471286028721493, 0.9999279433123618, 0.9999463255920769, 0.9999756246754168, 0.9999808481288047, 0.9998877522175531, 0.9998909675368168, 0.023945984379412207, 0.9999151169651733, 0.9998935984988032, 0.9999336028417457, 0.9999470730683208, 0.9994593328915772, 0.9999817265710295, 0.9998989810328377, 0.9999201229493171, 0.9999879885009885, 0.9999400862636838, 0.9997731488462336, 0.9999171000598398, 0.0031031921254069234, 0.9999545843882364, 0.9998721406778713, 0.9999547135795044, 0.9999265492678417, 0.9999146114238857, 0.9998284100816797, 0.999688561044994, 0.9999694962056236, 0.9998922411250812, 0.999957863887868, 0.9998216629199984, 0.9999747092134884, 0.9998882628530533, 0.999990090948402, 0.9999628261146601, 0.9999606727202422, 0.0015120729980364358, 0.08358326384625965, 0.9999127218702182, 0.9999121185161983, 0.9998271722096935, 0.9998239694926497, 0.9999489528319425, 0.7954460238980752, 0.9998597597617386, 0.9995545651169324, 0.9993245574804722, 0.999980777705106, 0.9999722241552612, 0.9998643043481605, 0.9993079867543063, 0.9998580281506863, 0.999876886955934, 0.9999093094998243, 0.999897372949843, 0.9980099071407551, 0.9998575323183607, 0.0004334205686890608, 0.9998804132479135, 0.9998526844492986, 0.9997804733435391, 0.999724399451405, 0.9999420991442374, 0.9998697333724448, 0.9997527584318706, 0.9999650386381087, 4.711081446671001e-05, 2.2715189508032044e-05, 0.9998149740799349, 0.9819263568392482, 0.9999570538198833, 0.9999135088175433, 0.9999118194603297, 0.9998950431034689, 8.507171495084236e-05, 0.9998018314043672, 0.9999456519984018, 0.9998951480133886, 0.22094613417560746, 0.0002545051266475918, 0.9999270985247882, 0.9999533806434712, 0.9999799541181456, 0.0002899980134142916, 0.9999838778091756, 0.9998113952628479, 0.9999773034652295, 0.9999587878250455, 0.9998963166920803, 0.9998740493853265, 0.9998959347448634, 0.9997661132712787, 4.298558029736833e-05, 0.9999473842199037, 0.9999106332562365, 0.9998885066570203, 0.9999019969615853, 0.9991702237294374, 0.9998170613125339, 9.635245492054077e-05, 0.999965333451495, 0.9998638658821832, 0.9999063486342558, 0.9998622660678834, 0.9998968503300155, 0.9999572992323746, 0.9999318265279662, 0.9998569221162174, 0.999962662233529, 0.9998944011687909, 0.9999031770932779, 0.988553973459073, 3.985339749763503e-05, 0.9999151654311375, 0.9999907184226461, 0.36726343334266653, 0.008754285928414368, 0.9998968275154858, 0.9999293454858647, 0.9999637226053449, 0.0004193021250468605, 0.999941371895642, 0.9999397946113711, 0.9999601159174691, 0.9999888588234609, 0.9997882537079915, 2.7746703484402694e-05, 0.9986605323204955, 0.9997531532046808, 0.9999880903920882, 0.12332514754701805, 0.9998679865322113, 0.9999911276931167, 0.9999795097024421, 0.999978208654789, 0.9999124595029484, 0.9999910269672776, 0.999926620450736, 0.999747597954703, 0.00018135232503583459, 0.9185925195329598, 0.9999507705697492, 0.9998842374684463, 0.00027577033929511804, 0.9999675325842613, 0.99986860566531, 0.999617065836977, 0.9999519130566965, 0.9999720055028367, 0.9999215756610657, 0.9999834409979098, 0.9999545725221833, 0.9999059727804, 0.9996424685617143, 0.9999949053385626, 0.9999455153998743, 0.999954575685617, 0.001607837512663841, 0.9999681081979692, 0.9999395458828033, 0.9999370307813134]\n"
     ]
    }
   ],
   "source": [
    "# Predict probabilities on the test set\n",
    "predictions = model.predict_proba(X_test_scaled)\n",
    "print(predictions[:, 1])\n",
    "\n",
    "# Convert the predictions to a list\n",
    "variable = predictions[:, 1].tolist()\n",
    "print(variable)"
   ]
  }
 ],
 "metadata": {
  "colab": {
   "provenance": []
  },
  "kaggle": {
   "accelerator": "none",
   "dataSources": [
    {
     "datasetId": 3901,
     "sourceId": 6113,
     "sourceType": "datasetVersion"
    }
   ],
   "dockerImageVersionId": 30732,
   "isGpuEnabled": false,
   "isInternetEnabled": true,
   "language": "python",
   "sourceType": "notebook"
  },
  "kernelspec": {
   "display_name": "Python 3",
   "name": "python3"
  },
  "language_info": {
   "codemirror_mode": {
    "name": "ipython",
    "version": 3
   },
   "file_extension": ".py",
   "mimetype": "text/x-python",
   "name": "python",
   "nbconvert_exporter": "python",
   "pygments_lexer": "ipython3",
   "version": "3.12.4"
  },
  "papermill": {
   "default_parameters": {},
   "duration": 8.670137,
   "end_time": "2024-06-18T10:59:54.324559",
   "environment_variables": {},
   "exception": true,
   "input_path": "__notebook__.ipynb",
   "output_path": "__notebook__.ipynb",
   "parameters": {},
   "start_time": "2024-06-18T10:59:45.654422",
   "version": "2.5.0"
  }
 },
 "nbformat": 4,
 "nbformat_minor": 5
}
